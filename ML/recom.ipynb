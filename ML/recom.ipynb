{
 "cells": [
  {
   "cell_type": "code",
   "execution_count": 26,
   "metadata": {},
   "outputs": [],
   "source": [
    "import numpy as np\n",
    "import pandas as pd\n",
    "import warnings\n",
    "warnings.filterwarnings('ignore')"
   ]
  },
  {
   "cell_type": "markdown",
   "metadata": {},
   "source": [
    "#Import the data\n"
   ]
  },
  {
   "cell_type": "code",
   "execution_count": 27,
   "metadata": {},
   "outputs": [
    {
     "data": {
      "text/html": [
       "<div>\n",
       "<style scoped>\n",
       "    .dataframe tbody tr th:only-of-type {\n",
       "        vertical-align: middle;\n",
       "    }\n",
       "\n",
       "    .dataframe tbody tr th {\n",
       "        vertical-align: top;\n",
       "    }\n",
       "\n",
       "    .dataframe thead th {\n",
       "        text-align: right;\n",
       "    }\n",
       "</style>\n",
       "<table border=\"1\" class=\"dataframe\">\n",
       "  <thead>\n",
       "    <tr style=\"text-align: right;\">\n",
       "      <th></th>\n",
       "      <th>N</th>\n",
       "      <th>P</th>\n",
       "      <th>K</th>\n",
       "      <th>temperature</th>\n",
       "      <th>humidity</th>\n",
       "      <th>ph</th>\n",
       "      <th>rainfall</th>\n",
       "      <th>label</th>\n",
       "    </tr>\n",
       "  </thead>\n",
       "  <tbody>\n",
       "    <tr>\n",
       "      <th>0</th>\n",
       "      <td>0</td>\n",
       "      <td>122</td>\n",
       "      <td>200</td>\n",
       "      <td>21.633013</td>\n",
       "      <td>92.551139</td>\n",
       "      <td>5.434435</td>\n",
       "      <td>99.779106</td>\n",
       "      <td>apple</td>\n",
       "    </tr>\n",
       "    <tr>\n",
       "      <th>1</th>\n",
       "      <td>0</td>\n",
       "      <td>123</td>\n",
       "      <td>200</td>\n",
       "      <td>22.082933</td>\n",
       "      <td>95.544101</td>\n",
       "      <td>5.602561</td>\n",
       "      <td>72.991061</td>\n",
       "      <td>apple</td>\n",
       "    </tr>\n",
       "    <tr>\n",
       "      <th>2</th>\n",
       "      <td>0</td>\n",
       "      <td>123</td>\n",
       "      <td>205</td>\n",
       "      <td>22.027754</td>\n",
       "      <td>92.961295</td>\n",
       "      <td>5.790993</td>\n",
       "      <td>121.134918</td>\n",
       "      <td>apple</td>\n",
       "    </tr>\n",
       "    <tr>\n",
       "      <th>3</th>\n",
       "      <td>0</td>\n",
       "      <td>124</td>\n",
       "      <td>199</td>\n",
       "      <td>23.345509</td>\n",
       "      <td>99.150439</td>\n",
       "      <td>5.437313</td>\n",
       "      <td>128.157427</td>\n",
       "      <td>apple</td>\n",
       "    </tr>\n",
       "    <tr>\n",
       "      <th>4</th>\n",
       "      <td>0</td>\n",
       "      <td>124</td>\n",
       "      <td>200</td>\n",
       "      <td>21.271503</td>\n",
       "      <td>91.513965</td>\n",
       "      <td>5.345729</td>\n",
       "      <td>149.631558</td>\n",
       "      <td>apple</td>\n",
       "    </tr>\n",
       "  </tbody>\n",
       "</table>\n",
       "</div>"
      ],
      "text/plain": [
       "   N    P    K  temperature   humidity        ph    rainfall  label\n",
       "0  0  122  200    21.633013  92.551139  5.434435   99.779106  apple\n",
       "1  0  123  200    22.082933  95.544101  5.602561   72.991061  apple\n",
       "2  0  123  205    22.027754  92.961295  5.790993  121.134918  apple\n",
       "3  0  124  199    23.345509  99.150439  5.437313  128.157427  apple\n",
       "4  0  124  200    21.271503  91.513965  5.345729  149.631558  apple"
      ]
     },
     "execution_count": 27,
     "metadata": {},
     "output_type": "execute_result"
    }
   ],
   "source": [
    "crop = pd.read_csv(\"dataset\\crop_recommendation_new.csv\")\n",
    "crop.head()"
   ]
  },
  {
   "cell_type": "markdown",
   "metadata": {},
   "source": [
    "Understanding the dataset"
   ]
  },
  {
   "cell_type": "code",
   "execution_count": 28,
   "metadata": {},
   "outputs": [
    {
     "data": {
      "text/plain": [
       "(11356, 8)"
      ]
     },
     "execution_count": 28,
     "metadata": {},
     "output_type": "execute_result"
    }
   ],
   "source": [
    "\n",
    "crop.shape"
   ]
  },
  {
   "cell_type": "code",
   "execution_count": 29,
   "metadata": {},
   "outputs": [
    {
     "name": "stdout",
     "output_type": "stream",
     "text": [
      "<class 'pandas.core.frame.DataFrame'>\n",
      "RangeIndex: 11356 entries, 0 to 11355\n",
      "Data columns (total 8 columns):\n",
      " #   Column       Non-Null Count  Dtype  \n",
      "---  ------       --------------  -----  \n",
      " 0   N            11356 non-null  int64  \n",
      " 1   P            11356 non-null  int64  \n",
      " 2   K            11356 non-null  int64  \n",
      " 3   temperature  11356 non-null  float64\n",
      " 4   humidity     11356 non-null  float64\n",
      " 5   ph           11356 non-null  float64\n",
      " 6   rainfall     11356 non-null  float64\n",
      " 7   label        11356 non-null  object \n",
      "dtypes: float64(4), int64(3), object(1)\n",
      "memory usage: 709.9+ KB\n"
     ]
    }
   ],
   "source": [
    "crop.info()"
   ]
  },
  {
   "cell_type": "code",
   "execution_count": 30,
   "metadata": {},
   "outputs": [
    {
     "data": {
      "text/plain": [
       "N              0\n",
       "P              0\n",
       "K              0\n",
       "temperature    0\n",
       "humidity       0\n",
       "ph             0\n",
       "rainfall       0\n",
       "label          0\n",
       "dtype: int64"
      ]
     },
     "execution_count": 30,
     "metadata": {},
     "output_type": "execute_result"
    }
   ],
   "source": [
    "crop.isnull().sum()"
   ]
  },
  {
   "cell_type": "code",
   "execution_count": 31,
   "metadata": {},
   "outputs": [
    {
     "data": {
      "text/plain": [
       "0"
      ]
     },
     "execution_count": 31,
     "metadata": {},
     "output_type": "execute_result"
    }
   ],
   "source": [
    "crop.duplicated().sum()"
   ]
  },
  {
   "cell_type": "code",
   "execution_count": 32,
   "metadata": {},
   "outputs": [
    {
     "data": {
      "text/html": [
       "<div>\n",
       "<style scoped>\n",
       "    .dataframe tbody tr th:only-of-type {\n",
       "        vertical-align: middle;\n",
       "    }\n",
       "\n",
       "    .dataframe tbody tr th {\n",
       "        vertical-align: top;\n",
       "    }\n",
       "\n",
       "    .dataframe thead th {\n",
       "        text-align: right;\n",
       "    }\n",
       "</style>\n",
       "<table border=\"1\" class=\"dataframe\">\n",
       "  <thead>\n",
       "    <tr style=\"text-align: right;\">\n",
       "      <th></th>\n",
       "      <th>N</th>\n",
       "      <th>P</th>\n",
       "      <th>K</th>\n",
       "      <th>temperature</th>\n",
       "      <th>humidity</th>\n",
       "      <th>ph</th>\n",
       "      <th>rainfall</th>\n",
       "    </tr>\n",
       "  </thead>\n",
       "  <tbody>\n",
       "    <tr>\n",
       "      <th>count</th>\n",
       "      <td>11356.000000</td>\n",
       "      <td>11356.000000</td>\n",
       "      <td>11356.000000</td>\n",
       "      <td>11356.000000</td>\n",
       "      <td>11356.000000</td>\n",
       "      <td>11356.000000</td>\n",
       "      <td>11356.000000</td>\n",
       "    </tr>\n",
       "    <tr>\n",
       "      <th>mean</th>\n",
       "      <td>49.755900</td>\n",
       "      <td>52.895914</td>\n",
       "      <td>47.581895</td>\n",
       "      <td>25.582245</td>\n",
       "      <td>71.252847</td>\n",
       "      <td>6.467340</td>\n",
       "      <td>102.820413</td>\n",
       "    </tr>\n",
       "    <tr>\n",
       "      <th>std</th>\n",
       "      <td>36.802003</td>\n",
       "      <td>32.897874</td>\n",
       "      <td>50.063636</td>\n",
       "      <td>5.119463</td>\n",
       "      <td>22.846078</td>\n",
       "      <td>0.817749</td>\n",
       "      <td>60.364512</td>\n",
       "    </tr>\n",
       "    <tr>\n",
       "      <th>min</th>\n",
       "      <td>0.000000</td>\n",
       "      <td>5.000000</td>\n",
       "      <td>5.000000</td>\n",
       "      <td>7.231658</td>\n",
       "      <td>9.540611</td>\n",
       "      <td>3.010578</td>\n",
       "      <td>0.000000</td>\n",
       "    </tr>\n",
       "    <tr>\n",
       "      <th>25%</th>\n",
       "      <td>20.000000</td>\n",
       "      <td>27.000000</td>\n",
       "      <td>20.000000</td>\n",
       "      <td>22.522757</td>\n",
       "      <td>59.475887</td>\n",
       "      <td>5.928916</td>\n",
       "      <td>60.697750</td>\n",
       "    </tr>\n",
       "    <tr>\n",
       "      <th>50%</th>\n",
       "      <td>36.000000</td>\n",
       "      <td>51.000000</td>\n",
       "      <td>32.000000</td>\n",
       "      <td>25.658206</td>\n",
       "      <td>79.756329</td>\n",
       "      <td>6.432352</td>\n",
       "      <td>93.805859</td>\n",
       "    </tr>\n",
       "    <tr>\n",
       "      <th>75%</th>\n",
       "      <td>84.000000</td>\n",
       "      <td>68.000000</td>\n",
       "      <td>49.000000</td>\n",
       "      <td>28.603242</td>\n",
       "      <td>88.987183</td>\n",
       "      <td>6.956473</td>\n",
       "      <td>137.001136</td>\n",
       "    </tr>\n",
       "    <tr>\n",
       "      <th>max</th>\n",
       "      <td>144.000000</td>\n",
       "      <td>149.000000</td>\n",
       "      <td>205.000000</td>\n",
       "      <td>44.929083</td>\n",
       "      <td>100.000000</td>\n",
       "      <td>10.406061</td>\n",
       "      <td>335.913070</td>\n",
       "    </tr>\n",
       "  </tbody>\n",
       "</table>\n",
       "</div>"
      ],
      "text/plain": [
       "                  N             P             K   temperature      humidity  \\\n",
       "count  11356.000000  11356.000000  11356.000000  11356.000000  11356.000000   \n",
       "mean      49.755900     52.895914     47.581895     25.582245     71.252847   \n",
       "std       36.802003     32.897874     50.063636      5.119463     22.846078   \n",
       "min        0.000000      5.000000      5.000000      7.231658      9.540611   \n",
       "25%       20.000000     27.000000     20.000000     22.522757     59.475887   \n",
       "50%       36.000000     51.000000     32.000000     25.658206     79.756329   \n",
       "75%       84.000000     68.000000     49.000000     28.603242     88.987183   \n",
       "max      144.000000    149.000000    205.000000     44.929083    100.000000   \n",
       "\n",
       "                 ph      rainfall  \n",
       "count  11356.000000  11356.000000  \n",
       "mean       6.467340    102.820413  \n",
       "std        0.817749     60.364512  \n",
       "min        3.010578      0.000000  \n",
       "25%        5.928916     60.697750  \n",
       "50%        6.432352     93.805859  \n",
       "75%        6.956473    137.001136  \n",
       "max       10.406061    335.913070  "
      ]
     },
     "execution_count": 32,
     "metadata": {},
     "output_type": "execute_result"
    }
   ],
   "source": [
    "crop.describe()"
   ]
  },
  {
   "cell_type": "markdown",
   "metadata": {},
   "source": [
    "Exploring Data"
   ]
  },
  {
   "cell_type": "code",
   "execution_count": 33,
   "metadata": {},
   "outputs": [
    {
     "data": {
      "text/html": [
       "<div>\n",
       "<style scoped>\n",
       "    .dataframe tbody tr th:only-of-type {\n",
       "        vertical-align: middle;\n",
       "    }\n",
       "\n",
       "    .dataframe tbody tr th {\n",
       "        vertical-align: top;\n",
       "    }\n",
       "\n",
       "    .dataframe thead th {\n",
       "        text-align: right;\n",
       "    }\n",
       "</style>\n",
       "<table border=\"1\" class=\"dataframe\">\n",
       "  <thead>\n",
       "    <tr style=\"text-align: right;\">\n",
       "      <th></th>\n",
       "      <th>N</th>\n",
       "      <th>P</th>\n",
       "      <th>K</th>\n",
       "      <th>temperature</th>\n",
       "      <th>humidity</th>\n",
       "      <th>ph</th>\n",
       "      <th>rainfall</th>\n",
       "    </tr>\n",
       "  </thead>\n",
       "  <tbody>\n",
       "    <tr>\n",
       "      <th>N</th>\n",
       "      <td>1.000000</td>\n",
       "      <td>-0.240457</td>\n",
       "      <td>-0.136101</td>\n",
       "      <td>0.031039</td>\n",
       "      <td>0.196508</td>\n",
       "      <td>0.099418</td>\n",
       "      <td>0.039303</td>\n",
       "    </tr>\n",
       "    <tr>\n",
       "      <th>P</th>\n",
       "      <td>-0.240457</td>\n",
       "      <td>1.000000</td>\n",
       "      <td>0.729704</td>\n",
       "      <td>-0.145321</td>\n",
       "      <td>-0.129128</td>\n",
       "      <td>-0.116988</td>\n",
       "      <td>-0.053143</td>\n",
       "    </tr>\n",
       "    <tr>\n",
       "      <th>K</th>\n",
       "      <td>-0.136101</td>\n",
       "      <td>0.729704</td>\n",
       "      <td>1.000000</td>\n",
       "      <td>-0.179345</td>\n",
       "      <td>0.181049</td>\n",
       "      <td>-0.150987</td>\n",
       "      <td>-0.048681</td>\n",
       "    </tr>\n",
       "    <tr>\n",
       "      <th>temperature</th>\n",
       "      <td>0.031039</td>\n",
       "      <td>-0.145321</td>\n",
       "      <td>-0.179345</td>\n",
       "      <td>1.000000</td>\n",
       "      <td>0.213982</td>\n",
       "      <td>-0.018363</td>\n",
       "      <td>-0.027855</td>\n",
       "    </tr>\n",
       "    <tr>\n",
       "      <th>humidity</th>\n",
       "      <td>0.196508</td>\n",
       "      <td>-0.129128</td>\n",
       "      <td>0.181049</td>\n",
       "      <td>0.213982</td>\n",
       "      <td>1.000000</td>\n",
       "      <td>-0.011025</td>\n",
       "      <td>0.083287</td>\n",
       "    </tr>\n",
       "    <tr>\n",
       "      <th>ph</th>\n",
       "      <td>0.099418</td>\n",
       "      <td>-0.116988</td>\n",
       "      <td>-0.150987</td>\n",
       "      <td>-0.018363</td>\n",
       "      <td>-0.011025</td>\n",
       "      <td>1.000000</td>\n",
       "      <td>-0.107101</td>\n",
       "    </tr>\n",
       "    <tr>\n",
       "      <th>rainfall</th>\n",
       "      <td>0.039303</td>\n",
       "      <td>-0.053143</td>\n",
       "      <td>-0.048681</td>\n",
       "      <td>-0.027855</td>\n",
       "      <td>0.083287</td>\n",
       "      <td>-0.107101</td>\n",
       "      <td>1.000000</td>\n",
       "    </tr>\n",
       "  </tbody>\n",
       "</table>\n",
       "</div>"
      ],
      "text/plain": [
       "                    N         P         K  temperature  humidity        ph  \\\n",
       "N            1.000000 -0.240457 -0.136101     0.031039  0.196508  0.099418   \n",
       "P           -0.240457  1.000000  0.729704    -0.145321 -0.129128 -0.116988   \n",
       "K           -0.136101  0.729704  1.000000    -0.179345  0.181049 -0.150987   \n",
       "temperature  0.031039 -0.145321 -0.179345     1.000000  0.213982 -0.018363   \n",
       "humidity     0.196508 -0.129128  0.181049     0.213982  1.000000 -0.011025   \n",
       "ph           0.099418 -0.116988 -0.150987    -0.018363 -0.011025  1.000000   \n",
       "rainfall     0.039303 -0.053143 -0.048681    -0.027855  0.083287 -0.107101   \n",
       "\n",
       "             rainfall  \n",
       "N            0.039303  \n",
       "P           -0.053143  \n",
       "K           -0.048681  \n",
       "temperature -0.027855  \n",
       "humidity     0.083287  \n",
       "ph          -0.107101  \n",
       "rainfall     1.000000  "
      ]
     },
     "execution_count": 33,
     "metadata": {},
     "output_type": "execute_result"
    }
   ],
   "source": [
    "numerical_columns = crop.select_dtypes(include=['int64', 'float64'])\n",
    "corr = numerical_columns.corr()\n",
    "corr"
   ]
  },
  {
   "cell_type": "code",
   "execution_count": 34,
   "metadata": {},
   "outputs": [
    {
     "data": {
      "text/plain": [
       "<Axes: >"
      ]
     },
     "execution_count": 34,
     "metadata": {},
     "output_type": "execute_result"
    },
    {
     "data": {
      "image/png": "[encoded data removed]",
      "text/plain": [
       "<Figure size 640x480 with 2 Axes>"
      ]
     },
     "metadata": {},
     "output_type": "display_data"
    }
   ],
   "source": [
    "import seaborn as sns\n",
    "sns.heatmap(corr,annot=True,cbar=True, cmap='coolwarm')"
   ]
  },
  {
   "cell_type": "code",
   "execution_count": 35,
   "metadata": {},
   "outputs": [
    {
     "data": {
      "text/plain": [
       "label\n",
       "muskmelon      570\n",
       "kidneybeans    566\n",
       "chickpea       556\n",
       "watermelon     539\n",
       "coconut        538\n",
       "blackgram      535\n",
       "mungbean       526\n",
       "mango          518\n",
       "pomegranate    514\n",
       "mothbeans      512\n",
       "maize          510\n",
       "apple          508\n",
       "grapes         507\n",
       "papaya         504\n",
       "lentil         502\n",
       "cotton         500\n",
       "pigeonpeas     500\n",
       "rice           500\n",
       "orange         496\n",
       "banana         492\n",
       "coffee         484\n",
       "jute           479\n",
       "Name: count, dtype: int64"
      ]
     },
     "execution_count": 35,
     "metadata": {},
     "output_type": "execute_result"
    }
   ],
   "source": [
    "crop['label'].value_counts()"
   ]
  },
  {
   "cell_type": "code",
   "execution_count": 36,
   "metadata": {},
   "outputs": [
    {
     "data": {
      "image/png": "[encoded data removed]",
      "text/plain": [
       "<Figure size 640x480 with 1 Axes>"
      ]
     },
     "metadata": {},
     "output_type": "display_data"
    }
   ],
   "source": [
    "import matplotlib.pyplot as plt\n",
    "sns.distplot(crop['N'])\n",
    "plt.show()"
   ]
  },
  {
   "cell_type": "markdown",
   "metadata": {},
   "source": [
    "Encoding and Train Test Split"
   ]
  },
  {
   "cell_type": "code",
   "execution_count": 37,
   "metadata": {},
   "outputs": [
    {
     "name": "stdout",
     "output_type": "stream",
     "text": [
      "         N    P    K  temperature   humidity        ph    rainfall\n",
      "0        0  122  200    21.633013  92.551139  5.434435   99.779106\n",
      "1        0  123  200    22.082933  95.544101  5.602561   72.991061\n",
      "2        0  123  205    22.027754  92.961295  5.790993  121.134918\n",
      "3        0  124  199    23.345509  99.150439  5.437313  128.157427\n",
      "4        0  124  200    21.271503  91.513965  5.345729  149.631558\n",
      "...    ...  ...  ...          ...        ...       ...         ...\n",
      "11351  122   24   47    23.805890  85.744291  5.894879   80.218401\n",
      "11352  122   27   51    27.250909  79.336644  6.670764   10.978471\n",
      "11353  123   21   56    24.869113  80.811081  6.503131   36.950146\n",
      "11354  124   16   52    23.859353  82.592168  6.463001   72.213810\n",
      "11355  124   22   49    28.374211  92.326838  6.484354   82.619695\n",
      "\n",
      "[11356 rows x 7 columns]\n",
      "Shape of x: (11356, 7)\n",
      "Shape of y: (11356,)\n"
     ]
    }
   ],
   "source": [
    "crop_dict = {\n",
    "    'rice': 1,\n",
    "    'maize': 2,\n",
    "    'jute': 3,\n",
    "    'cotton': 4,\n",
    "    'coconut': 5,\n",
    "    'papaya': 6,\n",
    "    'orange': 7,\n",
    "    'apple': 8,\n",
    "    'muskmelon': 9,\n",
    "    'watermelon': 10,\n",
    "    'grapes': 11,\n",
    "    'mango': 12,\n",
    "    'banana': 13,\n",
    "    'pomegranate': 14,\n",
    "    'lentil': 15,\n",
    "    'blackgram': 16,\n",
    "    'mungbean': 17,\n",
    "    'mothbeans': 18,\n",
    "    'pigeonpeas': 19,\n",
    "    'kidneybeans': 20,\n",
    "    'chickpea': 21,\n",
    "    'coffee': 22\n",
    "}\n",
    "\n",
    "y = crop['label'].map(crop_dict)\n",
    "x = crop.drop(['label'],axis = 1)\n",
    "\n",
    "print(x)\n",
    "\n",
    "print(\"Shape of x:\", x.shape)\n",
    "print(\"Shape of y:\", y.shape)"
   ]
  },
  {
   "cell_type": "code",
   "execution_count": 38,
   "metadata": {},
   "outputs": [],
   "source": [
    "from sklearn.model_selection import train_test_split"
   ]
  },
  {
   "cell_type": "code",
   "execution_count": 39,
   "metadata": {},
   "outputs": [
    {
     "name": "stdout",
     "output_type": "stream",
     "text": [
      "The shape of x train: (9084, 7)\n",
      "The shape of x test: (2272, 7)\n",
      "The shape of y train: (9084,)\n",
      "The shape of y test: (2272,)\n"
     ]
    }
   ],
   "source": [
    "#Training and Testing Sets for Validation of Results\n",
    "x_train,x_test,y_train,y_test = train_test_split(x,y,test_size = 0.2,random_state = 0)\n",
    "\n",
    "print(\"The shape of x train:\", x_train.shape)\n",
    "print(\"The shape of x test:\", x_test.shape)\n",
    "print(\"The shape of y train:\", y_train.shape)\n",
    "print(\"The shape of y test:\", y_test.shape)"
   ]
  },
  {
   "cell_type": "markdown",
   "metadata": {},
   "source": [
    "\n",
    "Training Models"
   ]
  },
  {
   "cell_type": "code",
   "execution_count": 40,
   "metadata": {},
   "outputs": [
    {
     "name": "stdout",
     "output_type": "stream",
     "text": [
      "Logistic Regression  with accuracy : 0.894806338028169\n",
      "Naive Bayes  with accuracy : 0.965669014084507\n",
      "Support Vector Machine  with accuracy : 0.9273767605633803\n",
      "K-Nearest Neighbors  with accuracy : 0.9300176056338029\n",
      "Decision Tree  with accuracy : 0.9419014084507042\n",
      "Random Forest  with accuracy : 0.9731514084507042\n",
      "Bagging  with accuracy : 0.9639084507042254\n",
      "AdaBoost  with accuracy : 0.09507042253521127\n",
      "Gradient Boosting  with accuracy : 0.9647887323943662\n",
      "Extra Trees  with accuracy : 0.878080985915493\n"
     ]
    }
   ],
   "source": [
    "from sklearn.linear_model import LogisticRegression\n",
    "from sklearn.naive_bayes import GaussianNB\n",
    "from sklearn.svm import SVC\n",
    "from sklearn.neighbors import KNeighborsClassifier\n",
    "from sklearn.tree import DecisionTreeClassifier\n",
    "from sklearn.tree import ExtraTreeClassifier\n",
    "from sklearn.ensemble import RandomForestClassifier\n",
    "from sklearn.ensemble import BaggingClassifier\n",
    "from sklearn.ensemble import GradientBoostingClassifier\n",
    "from sklearn.ensemble import AdaBoostClassifier\n",
    "from sklearn.metrics import accuracy_score\n",
    "from sklearn.metrics import classification_report\n",
    "\n",
    "# create instances of all models\n",
    "models = {\n",
    "    'Logistic Regression': LogisticRegression(),\n",
    "    'Naive Bayes': GaussianNB(),\n",
    "    'Support Vector Machine': SVC(),\n",
    "    'K-Nearest Neighbors': KNeighborsClassifier(),\n",
    "    'Decision Tree': DecisionTreeClassifier(),\n",
    "    'Random Forest': RandomForestClassifier(),\n",
    "    'Bagging': BaggingClassifier(),\n",
    "    'AdaBoost': AdaBoostClassifier(),\n",
    "    'Gradient Boosting': GradientBoostingClassifier(),\n",
    "    'Extra Trees': ExtraTreeClassifier(),\n",
    "}\n",
    "\n",
    "\n",
    "for name, md in models.items():\n",
    "    md.fit(x_train,y_train)\n",
    "    ypred = md.predict(x_test)\n",
    "    \n",
    "    print(f\"{name}  with accuracy : {accuracy_score(y_test,ypred)}\")"
   ]
  },
  {
   "cell_type": "code",
   "execution_count": 41,
   "metadata": {},
   "outputs": [
    {
     "data": {
      "text/plain": [
       "0.9713908450704225"
      ]
     },
     "execution_count": 41,
     "metadata": {},
     "output_type": "execute_result"
    }
   ],
   "source": [
    "rfc = RandomForestClassifier()\n",
    "rfc.fit(x_train,y_train)\n",
    "ypred = rfc.predict(x_test)\n",
    "accuracy_score(y_test,ypred)"
   ]
  },
  {
   "cell_type": "code",
   "execution_count": 42,
   "metadata": {},
   "outputs": [
    {
     "name": "stdout",
     "output_type": "stream",
     "text": [
      "              precision    recall  f1-score   support\n",
      "\n",
      "           1       0.93      0.81      0.87       108\n",
      "           2       0.98      0.99      0.99       114\n",
      "           3       0.83      0.92      0.87       102\n",
      "           4       0.99      0.99      0.99        87\n",
      "           5       0.99      0.99      0.99       111\n",
      "           6       0.98      1.00      0.99       102\n",
      "           7       1.00      1.00      1.00       116\n",
      "           8       1.00      0.99      1.00       102\n",
      "           9       0.97      0.93      0.95       114\n",
      "          10       0.93      0.97      0.95       102\n",
      "          11       0.99      1.00      1.00       113\n",
      "          12       0.99      1.00      1.00       101\n",
      "          13       1.00      1.00      1.00        83\n",
      "          14       0.99      0.99      0.99       111\n",
      "          15       0.89      0.92      0.91        92\n",
      "          16       0.94      0.92      0.93       110\n",
      "          17       1.00      1.00      1.00       108\n",
      "          18       0.98      0.98      0.98        94\n",
      "          19       0.99      0.98      0.98       100\n",
      "          20       1.00      1.00      1.00       100\n",
      "          21       1.00      1.00      1.00        97\n",
      "          22       1.00      0.99      1.00       105\n",
      "\n",
      "    accuracy                           0.97      2272\n",
      "   macro avg       0.97      0.97      0.97      2272\n",
      "weighted avg       0.97      0.97      0.97      2272\n",
      "\n"
     ]
    }
   ],
   "source": [
    "#Printing Classification Report\n",
    "cr = classification_report(y_test, ypred)\n",
    "print(cr)"
   ]
  },
  {
   "cell_type": "markdown",
   "metadata": {},
   "source": [
    "Predictive System"
   ]
  },
  {
   "cell_type": "code",
   "execution_count": 43,
   "metadata": {},
   "outputs": [],
   "source": [
    "def recommendation(N,P,k,temperature,humidity,ph,rainfal):\n",
    "    features = np.array([[N,P,k,temperature,humidity,ph,rainfal]])\n",
    "    # transformed_features = ms.fit_transform(features)\n",
    "    # transformed_features = sc.fit_transform(transformed_features)\n",
    "    # prediction = rfc.predict(transformed_features).reshape(1,-1)\n",
    "    prediction = rfc.predict_proba(features)\n",
    "    prediction1 = rfc.predict(features)\n",
    "\n",
    "\n",
    "    crop_dict = {1: \"Rice\", 2: \"Maize\", 3: \"Jute\", 4: \"Cotton\", 5: \"Coconut\", 6: \"Papaya\", 7: \"Orange\",\n",
    "                 8: \"Apple\", 9: \"Muskmelon\", 10: \"Watermelon\", 11: \"Grapes\", 12: \"Mango\", 13: \"Banana\",\n",
    "                 14: \"Pomegranate\", 15: \"Lentil\", 16: \"Blackgram\", 17: \"Mungbean\", 18: \"Mothbeans\",\n",
    "                 19: \"Pigeonpeas\", 20: \"Kidneybeans\", 21: \"Chickpea\", 22: \"Coffee\"}\n",
    "\n",
    "    top3_classes = np.argsort(prediction[0])[-5:]\n",
    "    top3_crops = [crop_dict[idx + 1] for idx in top3_classes]\n",
    "    top3_crops.reverse()\n",
    "    print(\"Best crop to be cultivated: \", crop_dict[prediction1[0]])\n",
    "    print(\"Top 5 best crops to be cultivated after the 1st one:\", top3_crops)\n",
    "\n",
    "    # if prediction[0] in crop_dict:\n",
    "    #     crop = crop_dict[prediction[0]]\n",
    "    #     print(\"{} is a best crop to be cultivated \".format(crop))\n",
    "    # else:\n",
    "    #     print(\"Sorry there's no proper crop for this environment\")\n",
    "\n",
    "    \n",
    "    return prediction[0] "
   ]
  },
  {
   "cell_type": "code",
   "execution_count": null,
   "metadata": {},
   "outputs": [
    {
     "name": "stdout",
     "output_type": "stream",
     "text": [
      "Best crop to be cultivated:  Coffee\n",
      "Top 5 best crops to be cultivated after the 1st one: ['Coffee', 'Rice', 'Jute', 'Maize', 'Coconut']\n"
     ]
    }
   ],
   "source": [
    "N = 104\t\n",
    "P = 35\n",
    "k = 28\n",
    "temperature = 27.51006055\n",
    "humidity = 50.66687215\n",
    "ph = 6.983732393\n",
    "rainfall =143.9955548\n",
    "predict = recommendation(N,P,k,temperature,humidity,ph,rainfall)\n",
    "\n"
   ]
  },
  {
   "cell_type": "code",
   "execution_count": 45,
   "metadata": {},
   "outputs": [],
   "source": [
    "import pickle\n",
    "pickle.dump(rfc,open('model.pkl','wb'))"
   ]
  }
 ],
 "metadata": {
  "kernelspec": {
   "display_name": "Python 3",
   "language": "python",
   "name": "python3"
  },
  "language_info": {
   "codemirror_mode": {
    "name": "ipython",
    "version": 3
   },
   "file_extension": ".py",
   "mimetype": "text/x-python",
   "name": "python",
   "nbconvert_exporter": "python",
   "pygments_lexer": "ipython3",
   "version": "3.12.5"
  }
 },
 "nbformat": 4,
 "nbformat_minor": 2
}
